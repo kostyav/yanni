{
 "metadata": {
  "language_info": {
   "codemirror_mode": {
    "name": "ipython",
    "version": 3
   },
   "file_extension": ".py",
   "mimetype": "text/x-python",
   "name": "python",
   "nbconvert_exporter": "python",
   "pygments_lexer": "ipython3",
   "version": "3.9.1-final"
  },
  "orig_nbformat": 2,
  "kernelspec": {
   "name": "python3",
   "display_name": "Python 3.9.1 64-bit ('venv')",
   "metadata": {
    "interpreter": {
     "hash": "7e3ea74ec82f9b389919914947a75fead6a7d61a6919326d3853c0c7ed4e0992"
    }
   }
  }
 },
 "nbformat": 4,
 "nbformat_minor": 2,
 "cells": [
  {
   "cell_type": "code",
   "execution_count": 1,
   "metadata": {},
   "outputs": [],
   "source": [
    "import redis\n",
    "import yaml\n",
    "import numpy as np\n",
    "import random\n",
    "import dask.array as da\n",
    "from dask.diagnostics import ProgressBar"
   ]
  },
  {
   "cell_type": "code",
   "execution_count": 2,
   "metadata": {},
   "outputs": [],
   "source": [
    "with open('../settings.yaml') as f:\n",
    "    sets = yaml.load(f, Loader=yaml.FullLoader)"
   ]
  },
  {
   "cell_type": "code",
   "execution_count": 3,
   "metadata": {},
   "outputs": [],
   "source": [
    "r = redis.Redis(sets['redis']['host'], port=sets['redis']['port'], db=0)"
   ]
  },
  {
   "cell_type": "code",
   "execution_count": 4,
   "metadata": {},
   "outputs": [],
   "source": [
    "#https://math.stackexchange.com/questions/2858815/understanding-formula-for-hyperplanes"
   ]
  },
  {
   "cell_type": "code",
   "execution_count": 5,
   "metadata": {},
   "outputs": [],
   "source": [
    "H,W=100000,512\n",
    "L = 4 # used to set the number of hyperplanes\n",
    "HPs = pow(2,L)  # number of hyperplanes, equals to number of bits in key"
   ]
  },
  {
   "cell_type": "code",
   "execution_count": 6,
   "metadata": {},
   "outputs": [
    {
     "output_type": "execute_result",
     "data": {
      "text/plain": [
       "65536"
      ]
     },
     "metadata": {},
     "execution_count": 6
    }
   ],
   "source": [
    "pow(2,HPs)"
   ]
  },
  {
   "cell_type": "code",
   "execution_count": 7,
   "metadata": {},
   "outputs": [],
   "source": [
    "Y = da.random.normal(size=(H, W), chunks=(10000,W))"
   ]
  },
  {
   "cell_type": "code",
   "execution_count": 8,
   "metadata": {},
   "outputs": [],
   "source": [
    "idxes = np.empty([HPs, 2], dtype=np.int)\n",
    "for i in range(HPs):\n",
    "    idxes[i,:]=np.random.choice(a=H, size=2, replace=False)"
   ]
  },
  {
   "cell_type": "code",
   "execution_count": 9,
   "metadata": {},
   "outputs": [],
   "source": [
    "a=Y[idxes[:,0]]\n",
    "b=Y[idxes[:,1]]"
   ]
  },
  {
   "cell_type": "code",
   "execution_count": 10,
   "metadata": {},
   "outputs": [],
   "source": [
    "b_a=b-a\n",
    "a_norm2=da.linalg.norm(a, axis=1)\n",
    "b_norm2=da.linalg.norm(b, axis=1)\n",
    "c=(b_norm2-a_norm2)/2"
   ]
  },
  {
   "cell_type": "code",
   "execution_count": 11,
   "metadata": {},
   "outputs": [
    {
     "output_type": "stream",
     "name": "stdout",
     "text": [
      "[########################################] | 100% Completed |  2.6s\n"
     ]
    }
   ],
   "source": [
    "with ProgressBar():\n",
    "    keys=da.ma.masked_greater(Y.dot(b_a.T)-c,0).compute()"
   ]
  },
  {
   "cell_type": "code",
   "execution_count": 12,
   "metadata": {},
   "outputs": [],
   "source": [
    "tmp=np.packbits(keys.mask, axis=1)\n",
    "tmpv=np.array([v.tobytes() for v in tmp])\n",
    "keys_bits=da.from_array(tmpv, chunks=(10000,))"
   ]
  },
  {
   "cell_type": "code",
   "execution_count": 13,
   "metadata": {},
   "outputs": [],
   "source": [
    "#assert keys_bits.shape[1]*8==HPs\n",
    "assert len(Y.chunks[0]) == len(keys_bits.chunks[0])"
   ]
  },
  {
   "cell_type": "code",
   "execution_count": 14,
   "metadata": {},
   "outputs": [],
   "source": [
    "def vec2redis(ks,vs):\n",
    "    for k,v in zip(np.array(ks),np.array(vs)):\n",
    "        r.lpush(k.tobytes(), np.array(v).tobytes())\n",
    "    return np.array([1,1])[None]\n",
    "res=da.map_blocks(vec2redis,  keys_bits, Y, chunks=(1,1), dtype='float32')"
   ]
  },
  {
   "cell_type": "code",
   "execution_count": 15,
   "metadata": {},
   "outputs": [
    {
     "output_type": "stream",
     "name": "stdout",
     "text": [
      "[########################################] | 100% Completed |  1min 55.0s\n"
     ]
    }
   ],
   "source": [
    "with ProgressBar():\n",
    "    rr=res.compute()"
   ]
  },
  {
   "cell_type": "code",
   "execution_count": null,
   "metadata": {},
   "outputs": [],
   "source": []
  }
 ]
}