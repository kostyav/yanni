{
 "metadata": {
  "language_info": {
   "codemirror_mode": {
    "name": "ipython",
    "version": 3
   },
   "file_extension": ".py",
   "mimetype": "text/x-python",
   "name": "python",
   "nbconvert_exporter": "python",
   "pygments_lexer": "ipython3",
   "version": "3.9.1-final"
  },
  "orig_nbformat": 2,
  "kernelspec": {
   "name": "python3",
   "display_name": "Python 3.9.1 64-bit ('venv')",
   "metadata": {
    "interpreter": {
     "hash": "7e3ea74ec82f9b389919914947a75fead6a7d61a6919326d3853c0c7ed4e0992"
    }
   }
  }
 },
 "nbformat": 4,
 "nbformat_minor": 2,
 "cells": [
  {
   "cell_type": "code",
   "execution_count": 9,
   "metadata": {},
   "outputs": [],
   "source": [
    "import redis\n",
    "import yaml\n",
    "import numpy as np\n",
    "import random\n",
    "import dask.array as da"
   ]
  },
  {
   "cell_type": "code",
   "execution_count": 4,
   "metadata": {},
   "outputs": [],
   "source": [
    "with open('../settings.yaml') as f:\n",
    "    sets = yaml.load(f, Loader=yaml.FullLoader)"
   ]
  },
  {
   "cell_type": "code",
   "execution_count": 5,
   "metadata": {},
   "outputs": [],
   "source": [
    "r = redis.Redis(sets['redis']['host'], port=sets['redis']['port'], db=0)"
   ]
  },
  {
   "cell_type": "code",
   "execution_count": 18,
   "metadata": {},
   "outputs": [],
   "source": [
    "#https://math.stackexchange.com/questions/2858815/understanding-formula-for-hyperplanes"
   ]
  },
  {
   "cell_type": "code",
   "execution_count": 6,
   "metadata": {},
   "outputs": [],
   "source": [
    "H,W=100000,512\n",
    "HPs = 1024 # number of hyperplanes, equals to number of bits in key"
   ]
  },
  {
   "cell_type": "code",
   "execution_count": 7,
   "metadata": {},
   "outputs": [],
   "source": [
    "Y = da.random.normal(size=(H, W))"
   ]
  },
  {
   "cell_type": "code",
   "execution_count": 11,
   "metadata": {},
   "outputs": [],
   "source": [
    "idxes = np.empty([HPs, 2], dtype=np.int)\n",
    "for i in range(HPs):\n",
    "    idxes[i,:]=np.random.choice(a=H, size=2, replace=False)"
   ]
  },
  {
   "cell_type": "code",
   "execution_count": 37,
   "metadata": {},
   "outputs": [],
   "source": [
    "a=Y[idxes[:,0]]\n",
    "b=Y[idxes[:,1]]"
   ]
  },
  {
   "cell_type": "code",
   "execution_count": 43,
   "metadata": {},
   "outputs": [],
   "source": [
    "b_a=b-a\n",
    "a_norm2=da.linalg.norm(a, axis=1)\n",
    "b_norm2=da.linalg.norm(b, axis=1)\n",
    "c=(b_norm2-a_norm2)/2"
   ]
  },
  {
   "cell_type": "code",
   "execution_count": 78,
   "metadata": {},
   "outputs": [],
   "source": [
    "X = da.random.normal(size=(W))\n",
    "#X=Y[idxes[10,0],:]"
   ]
  },
  {
   "cell_type": "code",
   "execution_count": 100,
   "metadata": {},
   "outputs": [
    {
     "output_type": "execute_result",
     "data": {
      "text/plain": [
       "dask.array<sub, shape=(1024, 512), dtype=float64, chunksize=(3, 512), chunktype=numpy.ndarray>"
      ],
      "text/html": "<table>\n<tr>\n<td>\n<table>\n  <thead>\n    <tr><td> </td><th> Array </th><th> Chunk </th></tr>\n  </thead>\n  <tbody>\n    <tr><th> Bytes </th><td> 4.19 MB </td> <td> 12.29 kB </td></tr>\n    <tr><th> Shape </th><td> (1024, 512) </td> <td> (3, 512) </td></tr>\n    <tr><th> Count </th><td> 5118 Tasks </td><td> 960 Chunks </td></tr>\n    <tr><th> Type </th><td> float64 </td><td> numpy.ndarray </td></tr>\n  </tbody>\n</table>\n</td>\n<td>\n<svg width=\"110\" height=\"170\" style=\"stroke:rgb(0,0,0);stroke-width:1\" >\n\n  <!-- Horizontal lines -->\n  <line x1=\"0\" y1=\"0\" x2=\"60\" y2=\"0\" style=\"stroke-width:2\" />\n  <line x1=\"0\" y1=\"6\" x2=\"60\" y2=\"6\" />\n  <line x1=\"0\" y1=\"12\" x2=\"60\" y2=\"12\" />\n  <line x1=\"0\" y1=\"19\" x2=\"60\" y2=\"19\" />\n  <line x1=\"0\" y1=\"25\" x2=\"60\" y2=\"25\" />\n  <line x1=\"0\" y1=\"31\" x2=\"60\" y2=\"31\" />\n  <line x1=\"0\" y1=\"37\" x2=\"60\" y2=\"37\" />\n  <line x1=\"0\" y1=\"43\" x2=\"60\" y2=\"43\" />\n  <line x1=\"0\" y1=\"50\" x2=\"60\" y2=\"50\" />\n  <line x1=\"0\" y1=\"56\" x2=\"60\" y2=\"56\" />\n  <line x1=\"0\" y1=\"63\" x2=\"60\" y2=\"63\" />\n  <line x1=\"0\" y1=\"69\" x2=\"60\" y2=\"69\" />\n  <line x1=\"0\" y1=\"75\" x2=\"60\" y2=\"75\" />\n  <line x1=\"0\" y1=\"82\" x2=\"60\" y2=\"82\" />\n  <line x1=\"0\" y1=\"88\" x2=\"60\" y2=\"88\" />\n  <line x1=\"0\" y1=\"94\" x2=\"60\" y2=\"94\" />\n  <line x1=\"0\" y1=\"100\" x2=\"60\" y2=\"100\" />\n  <line x1=\"0\" y1=\"107\" x2=\"60\" y2=\"107\" />\n  <line x1=\"0\" y1=\"113\" x2=\"60\" y2=\"113\" />\n  <line x1=\"0\" y1=\"120\" x2=\"60\" y2=\"120\" style=\"stroke-width:2\" />\n\n  <!-- Vertical lines -->\n  <line x1=\"0\" y1=\"0\" x2=\"0\" y2=\"120\" style=\"stroke-width:2\" />\n  <line x1=\"60\" y1=\"0\" x2=\"60\" y2=\"120\" style=\"stroke-width:2\" />\n\n  <!-- Colored Rectangle -->\n  <polygon points=\"0.0,0.0 60.0,0.0 60.0,120.0 0.0,120.0\" style=\"fill:#8B4903A0;stroke-width:0\"/>\n\n  <!-- Text -->\n  <text x=\"30.000000\" y=\"140.000000\" font-size=\"1.0rem\" font-weight=\"100\" text-anchor=\"middle\" >512</text>\n  <text x=\"80.000000\" y=\"60.000000\" font-size=\"1.0rem\" font-weight=\"100\" text-anchor=\"middle\" transform=\"rotate(-90,80.000000,60.000000)\">1024</text>\n</svg>\n</td>\n</tr>\n</table>"
     },
     "metadata": {},
     "execution_count": 100
    }
   ],
   "source": [
    "b_a"
   ]
  },
  {
   "cell_type": "code",
   "execution_count": 86,
   "metadata": {},
   "outputs": [],
   "source": [
    "q=da.ma.masked_greater(b_a.dot(X)-c,0)"
   ]
  },
  {
   "cell_type": "code",
   "execution_count": 87,
   "metadata": {},
   "outputs": [],
   "source": [
    "qc=q.compute()"
   ]
  },
  {
   "cell_type": "code",
   "execution_count": 95,
   "metadata": {},
   "outputs": [],
   "source": [
    "key=np.packbits(qc.mask)"
   ]
  },
  {
   "cell_type": "code",
   "execution_count": 109,
   "metadata": {},
   "outputs": [],
   "source": [
    "keys=da.ma.masked_greater(Y.dot(b_a.T)-c,0)"
   ]
  },
  {
   "cell_type": "code",
   "execution_count": 112,
   "metadata": {},
   "outputs": [
    {
     "output_type": "execute_result",
     "data": {
      "text/plain": [
       "masked_array(\n",
       "  data=[[--, -6.379714452280329, -17.408126407724005, ..., --, --,\n",
       "         -30.786593438975665],\n",
       "        [--, -10.73193769856973, --, ..., --, --, -38.396130081459845],\n",
       "        [--, -56.89904153235883, -19.15664359042478, ..., --,\n",
       "         -14.663298132865581, -33.43855375031051],\n",
       "        ...,\n",
       "        [-31.94095140246445, --, -15.969255978024337, ...,\n",
       "         -21.137359634617027, --, -34.14087156665706],\n",
       "        [-38.28440219200497, -16.780408604091228, --, ..., --,\n",
       "         -9.132078984626327, -27.237102668824363],\n",
       "        [-37.27659656647375, -13.252808561563414, -16.244853276603862,\n",
       "         ..., --, --, -12.309011723700985]],\n",
       "  mask=[[ True, False, False, ...,  True,  True, False],\n",
       "        [ True, False,  True, ...,  True,  True, False],\n",
       "        [ True, False, False, ...,  True, False, False],\n",
       "        ...,\n",
       "        [False,  True, False, ..., False,  True, False],\n",
       "        [False, False,  True, ...,  True, False, False],\n",
       "        [False, False, False, ...,  True,  True, False]],\n",
       "  fill_value=1e+20)"
      ]
     },
     "metadata": {},
     "execution_count": 112
    }
   ],
   "source": [
    "keys.compute()"
   ]
  },
  {
   "cell_type": "code",
   "execution_count": 110,
   "metadata": {},
   "outputs": [
    {
     "output_type": "error",
     "ename": "AttributeError",
     "evalue": "'Array' object has no attribute 'mask'",
     "traceback": [
      "\u001b[0;31m---------------------------------------------------------------------------\u001b[0m",
      "\u001b[0;31mAttributeError\u001b[0m                            Traceback (most recent call last)",
      "\u001b[0;32m<ipython-input-110-bf1c59054e35>\u001b[0m in \u001b[0;36m<module>\u001b[0;34m\u001b[0m\n\u001b[0;32m----> 1\u001b[0;31m \u001b[0mkeys_bits\u001b[0m\u001b[0;34m=\u001b[0m\u001b[0mnp\u001b[0m\u001b[0;34m.\u001b[0m\u001b[0mpackbits\u001b[0m\u001b[0;34m(\u001b[0m\u001b[0mkeys\u001b[0m\u001b[0;34m.\u001b[0m\u001b[0mmask\u001b[0m\u001b[0;34m)\u001b[0m\u001b[0;34m\u001b[0m\u001b[0;34m\u001b[0m\u001b[0m\n\u001b[0m",
      "\u001b[0;31mAttributeError\u001b[0m: 'Array' object has no attribute 'mask'"
     ]
    }
   ],
   "source": [
    "keys_bits=np.packbits(keys.mask)"
   ]
  },
  {
   "cell_type": "code",
   "execution_count": 111,
   "metadata": {},
   "outputs": [
    {
     "output_type": "execute_result",
     "data": {
      "text/plain": [
       "dask.array<masked_greater, shape=(100000, 1024), dtype=float64, chunksize=(25000, 3), chunktype=numpy.MaskedArray>"
      ],
      "text/html": "<table>\n<tr>\n<td>\n<table>\n  <thead>\n    <tr><td> </td><th> Array </th><th> Chunk </th></tr>\n  </thead>\n  <tbody>\n    <tr><th> Bytes </th><td> 819.20 MB </td> <td> 600.00 kB </td></tr>\n    <tr><th> Shape </th><td> (100000, 1024) </td> <td> (25000, 3) </td></tr>\n    <tr><th> Count </th><td> 29749 Tasks </td><td> 3840 Chunks </td></tr>\n    <tr><th> Type </th><td> float64 </td><td> numpy.MaskedArray </td></tr>\n  </tbody>\n</table>\n</td>\n<td>\n<svg width=\"75\" height=\"170\" style=\"stroke:rgb(0,0,0);stroke-width:1\" >\n\n  <!-- Horizontal lines -->\n  <line x1=\"0\" y1=\"0\" x2=\"25\" y2=\"0\" style=\"stroke-width:2\" />\n  <line x1=\"0\" y1=\"30\" x2=\"25\" y2=\"30\" />\n  <line x1=\"0\" y1=\"60\" x2=\"25\" y2=\"60\" />\n  <line x1=\"0\" y1=\"90\" x2=\"25\" y2=\"90\" />\n  <line x1=\"0\" y1=\"120\" x2=\"25\" y2=\"120\" style=\"stroke-width:2\" />\n\n  <!-- Vertical lines -->\n  <line x1=\"0\" y1=\"0\" x2=\"0\" y2=\"120\" style=\"stroke-width:2\" />\n  <line x1=\"1\" y1=\"0\" x2=\"1\" y2=\"120\" />\n  <line x1=\"2\" y1=\"0\" x2=\"2\" y2=\"120\" />\n  <line x1=\"4\" y1=\"0\" x2=\"4\" y2=\"120\" />\n  <line x1=\"5\" y1=\"0\" x2=\"5\" y2=\"120\" />\n  <line x1=\"6\" y1=\"0\" x2=\"6\" y2=\"120\" />\n  <line x1=\"7\" y1=\"0\" x2=\"7\" y2=\"120\" />\n  <line x1=\"9\" y1=\"0\" x2=\"9\" y2=\"120\" />\n  <line x1=\"10\" y1=\"0\" x2=\"10\" y2=\"120\" />\n  <line x1=\"12\" y1=\"0\" x2=\"12\" y2=\"120\" />\n  <line x1=\"13\" y1=\"0\" x2=\"13\" y2=\"120\" />\n  <line x1=\"14\" y1=\"0\" x2=\"14\" y2=\"120\" />\n  <line x1=\"16\" y1=\"0\" x2=\"16\" y2=\"120\" />\n  <line x1=\"17\" y1=\"0\" x2=\"17\" y2=\"120\" />\n  <line x1=\"18\" y1=\"0\" x2=\"18\" y2=\"120\" />\n  <line x1=\"20\" y1=\"0\" x2=\"20\" y2=\"120\" />\n  <line x1=\"21\" y1=\"0\" x2=\"21\" y2=\"120\" />\n  <line x1=\"22\" y1=\"0\" x2=\"22\" y2=\"120\" />\n  <line x1=\"24\" y1=\"0\" x2=\"24\" y2=\"120\" />\n  <line x1=\"25\" y1=\"0\" x2=\"25\" y2=\"120\" style=\"stroke-width:2\" />\n\n  <!-- Colored Rectangle -->\n  <polygon points=\"0.0,0.0 25.526529345956824,0.0 25.526529345956824,120.0 0.0,120.0\" style=\"fill:#8B4903A0;stroke-width:0\"/>\n\n  <!-- Text -->\n  <text x=\"12.763265\" y=\"140.000000\" font-size=\"1.0rem\" font-weight=\"100\" text-anchor=\"middle\" >1024</text>\n  <text x=\"45.526529\" y=\"60.000000\" font-size=\"1.0rem\" font-weight=\"100\" text-anchor=\"middle\" transform=\"rotate(-90,45.526529,60.000000)\">100000</text>\n</svg>\n</td>\n</tr>\n</table>"
     },
     "metadata": {},
     "execution_count": 111
    }
   ],
   "source": [
    "keys"
   ]
  },
  {
   "cell_type": "code",
   "execution_count": 10,
   "metadata": {},
   "outputs": [],
   "source": []
  },
  {
   "cell_type": "code",
   "execution_count": null,
   "metadata": {},
   "outputs": [],
   "source": []
  },
  {
   "cell_type": "code",
   "execution_count": 21,
   "metadata": {},
   "outputs": [],
   "source": [
    "a=np.random.rand(D)\n",
    "a_norm2=np.dot(a,a)\n",
    "b=np.random.rand(D)\n",
    "b_norm2=np.dot(b,b)"
   ]
  },
  {
   "cell_type": "code",
   "execution_count": 22,
   "metadata": {},
   "outputs": [
    {
     "output_type": "stream",
     "name": "stdout",
     "text": [
      "-0.1710563516679867\n0.09007390803510262\n-0.3126568818384522\n-0.6698706360217792\n-0.37790388714794215\n0.0135725719437913\n0.06801615491527663\n-0.4088421532486562\n-0.17820569717080706\n-0.5156129506644247\n"
     ]
    }
   ],
   "source": [
    "for i in range(10):\n",
    "    x=np.random.rand(D)\n",
    "    print(np.dot((b-a),x)-0.5*(b_norm2-a_norm2))"
   ]
  },
  {
   "cell_type": "code",
   "execution_count": null,
   "metadata": {},
   "outputs": [],
   "source": []
  }
 ]
}